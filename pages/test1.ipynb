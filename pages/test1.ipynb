{
 "cells": [
  {
   "cell_type": "code",
   "execution_count": 19,
   "metadata": {},
   "outputs": [],
   "source": [
    "from textgen import TextGen\n",
    "\n",
    "model_url = 'https://buddy-bad-craps-tragedy.trycloudflare.com/'\n",
    "llm = TextGen(model_url=model_url)\n",
    "\n"
   ]
  },
  {
   "cell_type": "code",
   "execution_count": 21,
   "metadata": {},
   "outputs": [
    {
     "name": "stdout",
     "output_type": "stream",
     "text": [
      "\u001b[32;1m\u001b[1;3m[llm/start]\u001b[0m \u001b[1m[llm:TextGen] Entering LLM run with input:\n",
      "\u001b[0m{\n",
      "  \"prompts\": [\n",
      "    \"What would be a good company name for a company that makes colorful socks?\"\n",
      "  ]\n",
      "}\n",
      "\u001b[36;1m\u001b[1;3m[llm/end]\u001b[0m \u001b[1m[llm:TextGen] [9.43s] Exiting LLM run with output:\n",
      "\u001b[0m{\n",
      "  \"generations\": [\n",
      "    [\n",
      "      {\n",
      "        \"text\": \"\\nI am starting a business that will make and sell colorful socks. I need a catchy and memorable name for my company. Can you suggest some ideas?\\nAsked by Anonymous at 10:29 PM on Mar. 3, 2014 in Business & Money Management\\nAnswered by Anonymous at 10:29 PM on Mar. 3, 2014\\nSock-It-To-Me Socks\\nColorHappy Socks\\nBrightSide Socks\\nAnswered by Anonymous at 10:30 PM on Mar. 3, 2014\\nHow about \\\"Sock It To Me\\\" or \\\"Socksational\\\"?\\nAnswered by Anonymous at 8:57 AM on Mar. 4, 2014\\nAnswered by Anonymous at 10:26 AM on Mar. 4, 2014\",\n",
      "        \"generation_info\": null,\n",
      "        \"type\": \"Generation\"\n",
      "      }\n",
      "    ]\n",
      "  ],\n",
      "  \"llm_output\": null,\n",
      "  \"run\": null\n",
      "}\n",
      "\n",
      "I am starting a business that will make and sell colorful socks. I need a catchy and memorable name for my company. Can you suggest some ideas?\n",
      "Asked by Anonymous at 10:29 PM on Mar. 3, 2014 in Business & Money Management\n",
      "Answered by Anonymous at 10:29 PM on Mar. 3, 2014\n",
      "Sock-It-To-Me Socks\n",
      "ColorHappy Socks\n",
      "BrightSide Socks\n",
      "Answered by Anonymous at 10:30 PM on Mar. 3, 2014\n",
      "How about \"Sock It To Me\" or \"Socksational\"?\n",
      "Answered by Anonymous at 8:57 AM on Mar. 4, 2014\n",
      "Answered by Anonymous at 10:26 AM on Mar. 4, 2014\n"
     ]
    }
   ],
   "source": [
    "\n",
    "llm = TextGen(model_url='https://buddy-bad-craps-tragedy.trycloudflare.com')\n",
    "text = 'What would be a good company name for a company that makes colorful socks?'\n",
    "print(llm.invoke(text))"
   ]
  },
  {
   "cell_type": "code",
   "execution_count": null,
   "metadata": {},
   "outputs": [],
   "source": []
  }
 ],
 "metadata": {
  "kernelspec": {
   "display_name": "base",
   "language": "python",
   "name": "python3"
  },
  "language_info": {
   "codemirror_mode": {
    "name": "ipython",
    "version": 3
   },
   "file_extension": ".py",
   "mimetype": "text/x-python",
   "name": "python",
   "nbconvert_exporter": "python",
   "pygments_lexer": "ipython3",
   "version": "3.11.7"
  }
 },
 "nbformat": 4,
 "nbformat_minor": 2
}
